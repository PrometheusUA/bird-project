{
 "cells": [
  {
   "cell_type": "code",
   "execution_count": 4,
   "metadata": {},
   "outputs": [],
   "source": [
    "import google.auth\n",
    "from google.cloud import aiplatform, storage\n",
    "from google.auth.credentials import Credentials\n",
    "\n",
    "import pandas as pd\n",
    "import os"
   ]
  },
  {
   "cell_type": "code",
   "execution_count": 5,
   "metadata": {},
   "outputs": [],
   "source": [
    "credentials, project = google.auth.default()"
   ]
  },
  {
   "cell_type": "code",
   "execution_count": 6,
   "metadata": {},
   "outputs": [],
   "source": [
    "PATH = os.path.realpath('../data/train_data_s3')"
   ]
  },
  {
   "cell_type": "code",
   "execution_count": 7,
   "metadata": {},
   "outputs": [],
   "source": [
    "pathes = list()\n",
    "for classname in os.listdir(PATH):\n",
    "    for filename in os.listdir(os.path.join(PATH, classname)):\n",
    "        pathes.append(f'{classname}/{filename}')"
   ]
  },
  {
   "cell_type": "code",
   "execution_count": 8,
   "metadata": {},
   "outputs": [],
   "source": [
    "df = pd.DataFrame({'path': pathes})"
   ]
  },
  {
   "cell_type": "code",
   "execution_count": 9,
   "metadata": {},
   "outputs": [],
   "source": [
    "df['label'] = df['path'].str.split('/').str[0]\n",
    "df['path'] = df['path'].apply(lambda x: f'gs://bird-project-mlops-vertex-data/train_data_s3/{x}')"
   ]
  },
  {
   "cell_type": "code",
   "execution_count": 10,
   "metadata": {},
   "outputs": [],
   "source": [
    "df.to_csv('../data/dataset.csv', index=False)"
   ]
  },
  {
   "cell_type": "code",
   "execution_count": 11,
   "metadata": {},
   "outputs": [],
   "source": [
    "storage_client = storage.Client.from_service_account_json('../data/bird-project-mlops-vertex-ab4a1e84f536.json')"
   ]
  },
  {
   "cell_type": "code",
   "execution_count": 12,
   "metadata": {},
   "outputs": [],
   "source": [
    "def download_blob(bucket_name, source_blob_name, destination_file_name, storage_client):\n",
    "    \"\"\"Downloads a blob from the bucket.\"\"\"\n",
    "    # The ID of your GCS bucket\n",
    "    # bucket_name = \"your-bucket-name\"\n",
    "\n",
    "    # The ID of your GCS object\n",
    "    # source_blob_name = \"storage-object-name\"\n",
    "\n",
    "    # The path to which the file should be downloaded\n",
    "    # destination_file_name = \"local/path/to/file\"\n",
    "\n",
    "    bucket = storage_client.bucket(bucket_name)\n",
    "\n",
    "    # Construct a client side representation of a blob.\n",
    "    # Note `Bucket.blob` differs from `Bucket.get_blob` as it doesn't retrieve\n",
    "    # any content from Google Cloud Storage. As we don't need additional data,\n",
    "    # using `Bucket.blob` is preferred here.\n",
    "    blob = bucket.blob(source_blob_name)\n",
    "    blob.download_to_filename(destination_file_name)\n"
   ]
  },
  {
   "cell_type": "code",
   "execution_count": 13,
   "metadata": {},
   "outputs": [],
   "source": [
    "from google.cloud.storage import Client, transfer_manager"
   ]
  },
  {
   "cell_type": "code",
   "execution_count": 14,
   "metadata": {},
   "outputs": [],
   "source": [
    "def download_bucket_with_transfer_manager(\n",
    "        bucket_name, storage_client, destination_directory=\"\", workers=8, max_results=10000, \n",
    "    ):\n",
    "        \"\"\"Download all of the blobs in a bucket, concurrently in a process pool.\n",
    "\n",
    "        The filename of each blob once downloaded is derived from the blob name and\n",
    "        the `destination_directory `parameter. For complete control of the filename\n",
    "        of each blob, use transfer_manager.download_many() instead.\n",
    "\n",
    "        Directories will be created automatically as needed, for instance to\n",
    "        accommodate blob names that include slashes.\n",
    "        \"\"\"\n",
    "\n",
    "        # The ID of your GCS bucket\n",
    "        # bucket_name = \"your-bucket-name\"\n",
    "\n",
    "        # The directory on your computer to which to download all of the files. This\n",
    "        # string is prepended (with os.path.join()) to the name of each blob to form\n",
    "        # the full path. Relative paths and absolute paths are both accepted. An\n",
    "        # empty string means \"the current working directory\". Note that this\n",
    "        # parameter allows accepts directory traversal (\"../\" etc.) and is not\n",
    "        # intended for unsanitized end user input.\n",
    "        # destination_directory = \"\"\n",
    "\n",
    "        # The maximum number of processes to use for the operation. The performance\n",
    "        # impact of this value depends on the use case, but smaller files usually\n",
    "        # benefit from a higher number of processes. Each additional process occupies\n",
    "        # some CPU and memory resources until finished. Threads can be used instead\n",
    "        # of processes by passing `worker_type=transfer_manager.THREAD`.\n",
    "        # workers=8\n",
    "\n",
    "        # The maximum number of results to fetch from bucket.list_blobs(). This\n",
    "        # sample code fetches all of the blobs up to max_results and queues them all\n",
    "        # for download at once. Though they will still be executed in batches up to\n",
    "        # the processes limit, queueing them all at once can be taxing on system\n",
    "        # memory if buckets are very large. Adjust max_results as needed for your\n",
    "        # system environment, or set it to None if you are sure the bucket is not\n",
    "        # too large to hold in memory easily.\n",
    "        # max_results=1000\n",
    "        bucket = storage_client.bucket(bucket_name)\n",
    "\n",
    "        print(\"Bucket created\")\n",
    "\n",
    "        blob_names = [blob.name for blob in bucket.list_blobs(max_results=max_results)]\n",
    "\n",
    "        print(\"Blobs listed\")\n",
    "\n",
    "        transfer_manager.download_many_to_path(\n",
    "            bucket, blob_names, destination_directory=destination_directory, max_workers=workers\n",
    "        )\n",
    "\n",
    "        print(\"Blobs downloaded\")"
   ]
  },
  {
   "cell_type": "code",
   "execution_count": 16,
   "metadata": {},
   "outputs": [
    {
     "name": "stdout",
     "output_type": "stream",
     "text": [
      "Bucket created\n",
      "Blobs listed\n",
      "Blobs downloaded\n"
     ]
    }
   ],
   "source": [
    "download_bucket_with_transfer_manager('bird-project-mlops-vertex-data', storage_client, max_results=30, destination_directory='../data/train_data_gs_sample')"
   ]
  },
  {
   "cell_type": "code",
   "execution_count": 19,
   "metadata": {},
   "outputs": [],
   "source": [
    "download_blob('bird-project-mlops-vertex-data', 'dataset.csv', '../data/dataset-copy.csv', storage_client)"
   ]
  },
  {
   "cell_type": "code",
   "execution_count": 9,
   "metadata": {},
   "outputs": [],
   "source": [
    "aiplatform.init(\n",
    "    project='bird-project-mlops-vertex',\n",
    "    location='us-central1',\n",
    "    staging_bucket='gs://bird-project-mlops-vertex-bucket',\n",
    "    credentials=credentials,\n",
    ")"
   ]
  },
  {
   "cell_type": "code",
   "execution_count": 34,
   "metadata": {},
   "outputs": [],
   "source": [
    "dataset_id = 'birds-dataset-2'"
   ]
  },
  {
   "cell_type": "code",
   "execution_count": null,
   "metadata": {},
   "outputs": [],
   "source": [
    "dataset = aiplatform.ImageDataset(dataset_id)"
   ]
  },
  {
   "cell_type": "code",
   "execution_count": 14,
   "metadata": {},
   "outputs": [
    {
     "name": "stdout",
     "output_type": "stream",
     "text": [
      "Getting versions for projects/bird-project-mlops-vertex/locations/us-central1/models/1\n"
     ]
    },
    {
     "ename": "ServiceUnavailable",
     "evalue": "503 Getting metadata from plugin failed with error: ('invalid_grant: Bad Request', {'error': 'invalid_grant', 'error_description': 'Bad Request'})",
     "output_type": "error",
     "traceback": [
      "\u001b[1;31m---------------------------------------------------------------------------\u001b[0m",
      "\u001b[1;31m_InactiveRpcError\u001b[0m                         Traceback (most recent call last)",
      "File \u001b[1;32me:\\_UNIVER\\UCU\\2 sem\\MLOps\\bird-project\\.venv\\Lib\\site-packages\\google\\api_core\\grpc_helpers.py:76\u001b[0m, in \u001b[0;36m_wrap_unary_errors.<locals>.error_remapped_callable\u001b[1;34m(*args, **kwargs)\u001b[0m\n\u001b[0;32m     75\u001b[0m \u001b[38;5;28;01mtry\u001b[39;00m:\n\u001b[1;32m---> 76\u001b[0m     \u001b[38;5;28;01mreturn\u001b[39;00m \u001b[43mcallable_\u001b[49m\u001b[43m(\u001b[49m\u001b[38;5;241;43m*\u001b[39;49m\u001b[43margs\u001b[49m\u001b[43m,\u001b[49m\u001b[43m \u001b[49m\u001b[38;5;241;43m*\u001b[39;49m\u001b[38;5;241;43m*\u001b[39;49m\u001b[43mkwargs\u001b[49m\u001b[43m)\u001b[49m\n\u001b[0;32m     77\u001b[0m \u001b[38;5;28;01mexcept\u001b[39;00m grpc\u001b[38;5;241m.\u001b[39mRpcError \u001b[38;5;28;01mas\u001b[39;00m exc:\n",
      "File \u001b[1;32me:\\_UNIVER\\UCU\\2 sem\\MLOps\\bird-project\\.venv\\Lib\\site-packages\\grpc\\_channel.py:1181\u001b[0m, in \u001b[0;36m_UnaryUnaryMultiCallable.__call__\u001b[1;34m(self, request, timeout, metadata, credentials, wait_for_ready, compression)\u001b[0m\n\u001b[0;32m   1175\u001b[0m (\n\u001b[0;32m   1176\u001b[0m     state,\n\u001b[0;32m   1177\u001b[0m     call,\n\u001b[0;32m   1178\u001b[0m ) \u001b[38;5;241m=\u001b[39m \u001b[38;5;28mself\u001b[39m\u001b[38;5;241m.\u001b[39m_blocking(\n\u001b[0;32m   1179\u001b[0m     request, timeout, metadata, credentials, wait_for_ready, compression\n\u001b[0;32m   1180\u001b[0m )\n\u001b[1;32m-> 1181\u001b[0m \u001b[38;5;28;01mreturn\u001b[39;00m \u001b[43m_end_unary_response_blocking\u001b[49m\u001b[43m(\u001b[49m\u001b[43mstate\u001b[49m\u001b[43m,\u001b[49m\u001b[43m \u001b[49m\u001b[43mcall\u001b[49m\u001b[43m,\u001b[49m\u001b[43m \u001b[49m\u001b[38;5;28;43;01mFalse\u001b[39;49;00m\u001b[43m,\u001b[49m\u001b[43m \u001b[49m\u001b[38;5;28;43;01mNone\u001b[39;49;00m\u001b[43m)\u001b[49m\n",
      "File \u001b[1;32me:\\_UNIVER\\UCU\\2 sem\\MLOps\\bird-project\\.venv\\Lib\\site-packages\\grpc\\_channel.py:1006\u001b[0m, in \u001b[0;36m_end_unary_response_blocking\u001b[1;34m(state, call, with_call, deadline)\u001b[0m\n\u001b[0;32m   1005\u001b[0m \u001b[38;5;28;01melse\u001b[39;00m:\n\u001b[1;32m-> 1006\u001b[0m     \u001b[38;5;28;01mraise\u001b[39;00m _InactiveRpcError(state)\n",
      "\u001b[1;31m_InactiveRpcError\u001b[0m: <_InactiveRpcError of RPC that terminated with:\n\tstatus = StatusCode.UNAVAILABLE\n\tdetails = \"Getting metadata from plugin failed with error: ('invalid_grant: Bad Request', {'error': 'invalid_grant', 'error_description': 'Bad Request'})\"\n\tdebug_error_string = \"UNKNOWN:Error received from peer  {created_time:\"2024-07-19T13:43:49.2227196+00:00\", grpc_status:14, grpc_message:\"Getting metadata from plugin failed with error: (\\'invalid_grant: Bad Request\\', {\\'error\\': \\'invalid_grant\\', \\'error_description\\': \\'Bad Request\\'})\"}\"\n>",
      "\nThe above exception was the direct cause of the following exception:\n",
      "\u001b[1;31mServiceUnavailable\u001b[0m                        Traceback (most recent call last)",
      "Cell \u001b[1;32mIn[14], line 2\u001b[0m\n\u001b[0;32m      1\u001b[0m model_registry \u001b[38;5;241m=\u001b[39m aiplatform\u001b[38;5;241m.\u001b[39mmodels\u001b[38;5;241m.\u001b[39mModelRegistry(model\u001b[38;5;241m=\u001b[39m\u001b[38;5;124m\"\u001b[39m\u001b[38;5;124mprojects/bird-project-mlops-vertex/locations/us-central1/models/1\u001b[39m\u001b[38;5;124m\"\u001b[39m)\n\u001b[1;32m----> 2\u001b[0m \u001b[43mmodel_registry\u001b[49m\u001b[38;5;241;43m.\u001b[39;49m\u001b[43mlist_versions\u001b[49m\u001b[43m(\u001b[49m\u001b[43m)\u001b[49m\n",
      "File \u001b[1;32me:\\_UNIVER\\UCU\\2 sem\\MLOps\\bird-project\\.venv\\Lib\\site-packages\\google\\cloud\\aiplatform\\models.py:6788\u001b[0m, in \u001b[0;36mModelRegistry.list_versions\u001b[1;34m(self, filter)\u001b[0m\n\u001b[0;32m   6781\u001b[0m _LOGGER\u001b[38;5;241m.\u001b[39minfo(\u001b[38;5;124mf\u001b[39m\u001b[38;5;124m\"\u001b[39m\u001b[38;5;124mGetting versions for \u001b[39m\u001b[38;5;132;01m{\u001b[39;00m\u001b[38;5;28mself\u001b[39m\u001b[38;5;241m.\u001b[39mmodel_resource_name\u001b[38;5;132;01m}\u001b[39;00m\u001b[38;5;124m\"\u001b[39m)\n\u001b[0;32m   6783\u001b[0m request \u001b[38;5;241m=\u001b[39m gca_model_service_compat\u001b[38;5;241m.\u001b[39mListModelVersionsRequest(\n\u001b[0;32m   6784\u001b[0m     name\u001b[38;5;241m=\u001b[39m\u001b[38;5;28mself\u001b[39m\u001b[38;5;241m.\u001b[39mmodel_resource_name,\n\u001b[0;32m   6785\u001b[0m     \u001b[38;5;28mfilter\u001b[39m\u001b[38;5;241m=\u001b[39m\u001b[38;5;28mfilter\u001b[39m,\n\u001b[0;32m   6786\u001b[0m )\n\u001b[1;32m-> 6788\u001b[0m page_result \u001b[38;5;241m=\u001b[39m \u001b[38;5;28;43mself\u001b[39;49m\u001b[38;5;241;43m.\u001b[39;49m\u001b[43mclient\u001b[49m\u001b[38;5;241;43m.\u001b[39;49m\u001b[43mlist_model_versions\u001b[49m\u001b[43m(\u001b[49m\n\u001b[0;32m   6789\u001b[0m \u001b[43m    \u001b[49m\u001b[43mrequest\u001b[49m\u001b[38;5;241;43m=\u001b[39;49m\u001b[43mrequest\u001b[49m\u001b[43m,\u001b[49m\n\u001b[0;32m   6790\u001b[0m \u001b[43m\u001b[49m\u001b[43m)\u001b[49m\n\u001b[0;32m   6792\u001b[0m versions \u001b[38;5;241m=\u001b[39m [\n\u001b[0;32m   6793\u001b[0m     VersionInfo(\n\u001b[0;32m   6794\u001b[0m         version_id\u001b[38;5;241m=\u001b[39mmodel\u001b[38;5;241m.\u001b[39mversion_id,\n\u001b[1;32m   (...)\u001b[0m\n\u001b[0;32m   6802\u001b[0m     \u001b[38;5;28;01mfor\u001b[39;00m model \u001b[38;5;129;01min\u001b[39;00m page_result\n\u001b[0;32m   6803\u001b[0m ]\n\u001b[0;32m   6805\u001b[0m \u001b[38;5;28;01mreturn\u001b[39;00m versions\n",
      "File \u001b[1;32me:\\_UNIVER\\UCU\\2 sem\\MLOps\\bird-project\\.venv\\Lib\\site-packages\\google\\cloud\\aiplatform_v1\\services\\model_service\\client.py:1270\u001b[0m, in \u001b[0;36mModelServiceClient.list_model_versions\u001b[1;34m(self, request, name, retry, timeout, metadata)\u001b[0m\n\u001b[0;32m   1267\u001b[0m \u001b[38;5;28mself\u001b[39m\u001b[38;5;241m.\u001b[39m_validate_universe_domain()\n\u001b[0;32m   1269\u001b[0m \u001b[38;5;66;03m# Send the request.\u001b[39;00m\n\u001b[1;32m-> 1270\u001b[0m response \u001b[38;5;241m=\u001b[39m \u001b[43mrpc\u001b[49m\u001b[43m(\u001b[49m\n\u001b[0;32m   1271\u001b[0m \u001b[43m    \u001b[49m\u001b[43mrequest\u001b[49m\u001b[43m,\u001b[49m\n\u001b[0;32m   1272\u001b[0m \u001b[43m    \u001b[49m\u001b[43mretry\u001b[49m\u001b[38;5;241;43m=\u001b[39;49m\u001b[43mretry\u001b[49m\u001b[43m,\u001b[49m\n\u001b[0;32m   1273\u001b[0m \u001b[43m    \u001b[49m\u001b[43mtimeout\u001b[49m\u001b[38;5;241;43m=\u001b[39;49m\u001b[43mtimeout\u001b[49m\u001b[43m,\u001b[49m\n\u001b[0;32m   1274\u001b[0m \u001b[43m    \u001b[49m\u001b[43mmetadata\u001b[49m\u001b[38;5;241;43m=\u001b[39;49m\u001b[43mmetadata\u001b[49m\u001b[43m,\u001b[49m\n\u001b[0;32m   1275\u001b[0m \u001b[43m\u001b[49m\u001b[43m)\u001b[49m\n\u001b[0;32m   1277\u001b[0m \u001b[38;5;66;03m# This method is paged; wrap the response in a pager, which provides\u001b[39;00m\n\u001b[0;32m   1278\u001b[0m \u001b[38;5;66;03m# an `__iter__` convenience method.\u001b[39;00m\n\u001b[0;32m   1279\u001b[0m response \u001b[38;5;241m=\u001b[39m pagers\u001b[38;5;241m.\u001b[39mListModelVersionsPager(\n\u001b[0;32m   1280\u001b[0m     method\u001b[38;5;241m=\u001b[39mrpc,\n\u001b[0;32m   1281\u001b[0m     request\u001b[38;5;241m=\u001b[39mrequest,\n\u001b[0;32m   1282\u001b[0m     response\u001b[38;5;241m=\u001b[39mresponse,\n\u001b[0;32m   1283\u001b[0m     metadata\u001b[38;5;241m=\u001b[39mmetadata,\n\u001b[0;32m   1284\u001b[0m )\n",
      "File \u001b[1;32me:\\_UNIVER\\UCU\\2 sem\\MLOps\\bird-project\\.venv\\Lib\\site-packages\\google\\api_core\\gapic_v1\\method.py:131\u001b[0m, in \u001b[0;36m_GapicCallable.__call__\u001b[1;34m(self, timeout, retry, compression, *args, **kwargs)\u001b[0m\n\u001b[0;32m    128\u001b[0m \u001b[38;5;28;01mif\u001b[39;00m \u001b[38;5;28mself\u001b[39m\u001b[38;5;241m.\u001b[39m_compression \u001b[38;5;129;01mis\u001b[39;00m \u001b[38;5;129;01mnot\u001b[39;00m \u001b[38;5;28;01mNone\u001b[39;00m:\n\u001b[0;32m    129\u001b[0m     kwargs[\u001b[38;5;124m\"\u001b[39m\u001b[38;5;124mcompression\u001b[39m\u001b[38;5;124m\"\u001b[39m] \u001b[38;5;241m=\u001b[39m compression\n\u001b[1;32m--> 131\u001b[0m \u001b[38;5;28;01mreturn\u001b[39;00m \u001b[43mwrapped_func\u001b[49m\u001b[43m(\u001b[49m\u001b[38;5;241;43m*\u001b[39;49m\u001b[43margs\u001b[49m\u001b[43m,\u001b[49m\u001b[43m \u001b[49m\u001b[38;5;241;43m*\u001b[39;49m\u001b[38;5;241;43m*\u001b[39;49m\u001b[43mkwargs\u001b[49m\u001b[43m)\u001b[49m\n",
      "File \u001b[1;32me:\\_UNIVER\\UCU\\2 sem\\MLOps\\bird-project\\.venv\\Lib\\site-packages\\google\\api_core\\grpc_helpers.py:78\u001b[0m, in \u001b[0;36m_wrap_unary_errors.<locals>.error_remapped_callable\u001b[1;34m(*args, **kwargs)\u001b[0m\n\u001b[0;32m     76\u001b[0m     \u001b[38;5;28;01mreturn\u001b[39;00m callable_(\u001b[38;5;241m*\u001b[39margs, \u001b[38;5;241m*\u001b[39m\u001b[38;5;241m*\u001b[39mkwargs)\n\u001b[0;32m     77\u001b[0m \u001b[38;5;28;01mexcept\u001b[39;00m grpc\u001b[38;5;241m.\u001b[39mRpcError \u001b[38;5;28;01mas\u001b[39;00m exc:\n\u001b[1;32m---> 78\u001b[0m     \u001b[38;5;28;01mraise\u001b[39;00m exceptions\u001b[38;5;241m.\u001b[39mfrom_grpc_error(exc) \u001b[38;5;28;01mfrom\u001b[39;00m \u001b[38;5;21;01mexc\u001b[39;00m\n",
      "\u001b[1;31mServiceUnavailable\u001b[0m: 503 Getting metadata from plugin failed with error: ('invalid_grant: Bad Request', {'error': 'invalid_grant', 'error_description': 'Bad Request'})"
     ]
    }
   ],
   "source": [
    "model_registry = aiplatform.models.ModelRegistry(model=\"projects/bird-project-mlops-vertex/locations/us-central1/models/1\")\n",
    "model_registry.list_versions()\n"
   ]
  },
  {
   "cell_type": "code",
   "execution_count": null,
   "metadata": {},
   "outputs": [],
   "source": []
  }
 ],
 "metadata": {
  "kernelspec": {
   "display_name": ".venv",
   "language": "python",
   "name": "python3"
  },
  "language_info": {
   "codemirror_mode": {
    "name": "ipython",
    "version": 3
   },
   "file_extension": ".py",
   "mimetype": "text/x-python",
   "name": "python",
   "nbconvert_exporter": "python",
   "pygments_lexer": "ipython3",
   "version": "3.11.5"
  }
 },
 "nbformat": 4,
 "nbformat_minor": 2
}
